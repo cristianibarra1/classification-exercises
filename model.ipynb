{
 "cells": [
  {
   "cell_type": "code",
   "execution_count": 391,
   "id": "6e150c55",
   "metadata": {},
   "outputs": [],
   "source": [
    "import pandas as pd \n",
    "import numpy as np \n",
    "import env as e\n",
    "import prepare as pr\n",
    "import acquire as ac\n",
    "from sklearn.model_selection import train_test_split\n",
    "from sklearn.tree import DecisionTreeClassifier, plot_tree\n",
    "from sklearn.metrics import classification_report\n",
    "from sklearn.metrics import classification_report, confusion_matrix, ConfusionMatrixDisplay\n",
    "\n",
    "\n",
    "import matplotlib.pyplot as plt\n",
    "import seaborn as sns\n",
    "import warnings\n",
    "warnings.filterwarnings(\"ignore\")\n",
    "import re\n",
    "import sklearn.metrics as met"
   ]
  },
  {
   "cell_type": "markdown",
   "id": "165a4fd1",
   "metadata": {},
   "source": [
    "# Using the titanic data, in your classification-exercises repository, create a notebook, model.ipynb where you will do the following:\n",
    "\n",
    "1)What is your baseline prediction? What is your baseline accuracy? remember: your baseline prediction for a classification problem is predicting the most prevelant class in the training dataset (the mode). When you make those predictions, what is your accuracy? This is your baseline accuracy.\n",
    "\n",
    "2)Fit the decision tree classifier to your training sample and transform (i.e. make predictions on the training sample)\n",
    "\n",
    "3)Evaluate your in-sample results using the model score, confusion matrix, and classification report.\n",
    "\n",
    "4)Compute: Accuracy, true positive rate, false positive rate, true negative rate, false negative rate, precision, recall, f1-score, and support.\n",
    "\n",
    "5)Run through steps 2-4 using a different max_depth value.\n",
    "\n",
    "6)Which model performs better on your in-sample data?\n",
    "\n",
    "7)Which model performs best on your out-of-sample data, the validate set?"
   ]
  },
  {
   "cell_type": "code",
   "execution_count": 286,
   "id": "a6367b5f",
   "metadata": {},
   "outputs": [
    {
     "data": {
      "text/html": [
       "<div>\n",
       "<style scoped>\n",
       "    .dataframe tbody tr th:only-of-type {\n",
       "        vertical-align: middle;\n",
       "    }\n",
       "\n",
       "    .dataframe tbody tr th {\n",
       "        vertical-align: top;\n",
       "    }\n",
       "\n",
       "    .dataframe thead th {\n",
       "        text-align: right;\n",
       "    }\n",
       "</style>\n",
       "<table border=\"1\" class=\"dataframe\">\n",
       "  <thead>\n",
       "    <tr style=\"text-align: right;\">\n",
       "      <th></th>\n",
       "      <th>passenger_id</th>\n",
       "      <th>survived</th>\n",
       "      <th>pclass</th>\n",
       "      <th>sex</th>\n",
       "      <th>sibsp</th>\n",
       "      <th>parch</th>\n",
       "      <th>fare</th>\n",
       "      <th>embark_town</th>\n",
       "      <th>alone</th>\n",
       "      <th>sex_male</th>\n",
       "      <th>embark_town_Queenstown</th>\n",
       "      <th>embark_town_Southampton</th>\n",
       "    </tr>\n",
       "  </thead>\n",
       "  <tbody>\n",
       "    <tr>\n",
       "      <th>0</th>\n",
       "      <td>0</td>\n",
       "      <td>0</td>\n",
       "      <td>3</td>\n",
       "      <td>male</td>\n",
       "      <td>1</td>\n",
       "      <td>0</td>\n",
       "      <td>7.2500</td>\n",
       "      <td>Southampton</td>\n",
       "      <td>0</td>\n",
       "      <td>1</td>\n",
       "      <td>0</td>\n",
       "      <td>1</td>\n",
       "    </tr>\n",
       "    <tr>\n",
       "      <th>1</th>\n",
       "      <td>1</td>\n",
       "      <td>1</td>\n",
       "      <td>1</td>\n",
       "      <td>female</td>\n",
       "      <td>1</td>\n",
       "      <td>0</td>\n",
       "      <td>71.2833</td>\n",
       "      <td>Cherbourg</td>\n",
       "      <td>0</td>\n",
       "      <td>0</td>\n",
       "      <td>0</td>\n",
       "      <td>0</td>\n",
       "    </tr>\n",
       "    <tr>\n",
       "      <th>2</th>\n",
       "      <td>2</td>\n",
       "      <td>1</td>\n",
       "      <td>3</td>\n",
       "      <td>female</td>\n",
       "      <td>0</td>\n",
       "      <td>0</td>\n",
       "      <td>7.9250</td>\n",
       "      <td>Southampton</td>\n",
       "      <td>1</td>\n",
       "      <td>0</td>\n",
       "      <td>0</td>\n",
       "      <td>1</td>\n",
       "    </tr>\n",
       "    <tr>\n",
       "      <th>3</th>\n",
       "      <td>3</td>\n",
       "      <td>1</td>\n",
       "      <td>1</td>\n",
       "      <td>female</td>\n",
       "      <td>1</td>\n",
       "      <td>0</td>\n",
       "      <td>53.1000</td>\n",
       "      <td>Southampton</td>\n",
       "      <td>0</td>\n",
       "      <td>0</td>\n",
       "      <td>0</td>\n",
       "      <td>1</td>\n",
       "    </tr>\n",
       "    <tr>\n",
       "      <th>4</th>\n",
       "      <td>4</td>\n",
       "      <td>0</td>\n",
       "      <td>3</td>\n",
       "      <td>male</td>\n",
       "      <td>0</td>\n",
       "      <td>0</td>\n",
       "      <td>8.0500</td>\n",
       "      <td>Southampton</td>\n",
       "      <td>1</td>\n",
       "      <td>1</td>\n",
       "      <td>0</td>\n",
       "      <td>1</td>\n",
       "    </tr>\n",
       "  </tbody>\n",
       "</table>\n",
       "</div>"
      ],
      "text/plain": [
       "   passenger_id  survived  pclass     sex  sibsp  parch     fare  embark_town  \\\n",
       "0             0         0       3    male      1      0   7.2500  Southampton   \n",
       "1             1         1       1  female      1      0  71.2833    Cherbourg   \n",
       "2             2         1       3  female      0      0   7.9250  Southampton   \n",
       "3             3         1       1  female      1      0  53.1000  Southampton   \n",
       "4             4         0       3    male      0      0   8.0500  Southampton   \n",
       "\n",
       "   alone  sex_male  embark_town_Queenstown  embark_town_Southampton  \n",
       "0      0         1                       0                        1  \n",
       "1      0         0                       0                        0  \n",
       "2      1         0                       0                        1  \n",
       "3      0         0                       0                        1  \n",
       "4      1         1                       0                        1  "
      ]
     },
     "execution_count": 286,
     "metadata": {},
     "output_type": "execute_result"
    }
   ],
   "source": [
    "df_titanic= ac.get_titanic_data()\n",
    "df_titanic=pr.prep_titanic(df_titanic)\n",
    "df_titanic.dropna(inplace=True)\n",
    "df_titanic.head()"
   ]
  },
  {
   "cell_type": "code",
   "execution_count": 287,
   "id": "1b2c3d06",
   "metadata": {},
   "outputs": [],
   "source": [
    "df_titanic= df_titanic.drop(columns=(['sex','embark_town']))"
   ]
  },
  {
   "cell_type": "code",
   "execution_count": 309,
   "id": "d0e5b7d8",
   "metadata": {},
   "outputs": [
    {
     "name": "stdout",
     "output_type": "stream",
     "text": [
      "train_titanic -> (497, 10)\n",
      "validate_titanic -> (214, 10)\n",
      "test_titanic -> (178, 10)\n",
      "0.3822937625754527\n"
     ]
    }
   ],
   "source": [
    "train, test = train_test_split(df_titanic, test_size=.2, random_state=123, stratify=df_titanic.survived)\n",
    "train, val = train_test_split(train, test_size=.3, random_state=123, stratify=train.survived)\n",
    "# create X & y version of train, where y is a series with just the target variable and X are all the features. \n",
    "\n",
    "X_train = train.drop(columns=['survived'])\n",
    "y_train = train.survived\n",
    "\n",
    "X_val = val.drop(columns=['survived'])\n",
    "y_val = val.survived\n",
    "\n",
    "X_test = test.drop(columns=['survived'])\n",
    "y_test = test.survived\n",
    "print(f'train_titanic -> {train.shape}')\n",
    "print(f'validate_titanic -> {validate.shape}')\n",
    "print(f'test_titanic -> {test.shape}')\n",
    "baseline = train.survived.mean()\n",
    "print(baseline)"
   ]
  },
  {
   "cell_type": "code",
   "execution_count": 289,
   "id": "015230b4",
   "metadata": {},
   "outputs": [
    {
     "name": "stdout",
     "output_type": "stream",
     "text": [
      "<class 'pandas.core.frame.DataFrame'>\n",
      "Int64Index: 889 entries, 0 to 890\n",
      "Data columns (total 10 columns):\n",
      " #   Column                   Non-Null Count  Dtype  \n",
      "---  ------                   --------------  -----  \n",
      " 0   passenger_id             889 non-null    int64  \n",
      " 1   survived                 889 non-null    int64  \n",
      " 2   pclass                   889 non-null    int64  \n",
      " 3   sibsp                    889 non-null    int64  \n",
      " 4   parch                    889 non-null    int64  \n",
      " 5   fare                     889 non-null    float64\n",
      " 6   alone                    889 non-null    int64  \n",
      " 7   sex_male                 889 non-null    uint8  \n",
      " 8   embark_town_Queenstown   889 non-null    uint8  \n",
      " 9   embark_town_Southampton  889 non-null    uint8  \n",
      "dtypes: float64(1), int64(6), uint8(3)\n",
      "memory usage: 58.2 KB\n"
     ]
    }
   ],
   "source": [
    "clf1 = DecisionTreeClassifier(max_depth=2, random_state=123)\n",
    "df_titanic.info()"
   ]
  },
  {
   "cell_type": "code",
   "execution_count": 290,
   "id": "74dfbfff",
   "metadata": {},
   "outputs": [
    {
     "data": {
      "text/plain": [
       "[Text(0.5, 0.8333333333333334, 'sex_male <= 0.5\\ngini = 0.472\\nsamples = 497\\nvalue = [307, 190]\\nclass = d'),\n",
       " Text(0.25, 0.5, 'pclass <= 2.5\\ngini = 0.376\\nsamples = 167\\nvalue = [42, 125]\\nclass = a'),\n",
       " Text(0.125, 0.16666666666666666, 'gini = 0.081\\nsamples = 94\\nvalue = [4, 90]\\nclass = a'),\n",
       " Text(0.375, 0.16666666666666666, 'gini = 0.499\\nsamples = 73\\nvalue = [38, 35]\\nclass = d'),\n",
       " Text(0.75, 0.5, 'pclass <= 1.5\\ngini = 0.316\\nsamples = 330\\nvalue = [265, 65]\\nclass = d'),\n",
       " Text(0.625, 0.16666666666666666, 'gini = 0.482\\nsamples = 74\\nvalue = [44, 30]\\nclass = d'),\n",
       " Text(0.875, 0.16666666666666666, 'gini = 0.236\\nsamples = 256\\nvalue = [221, 35]\\nclass = d')]"
      ]
     },
     "execution_count": 290,
     "metadata": {},
     "output_type": "execute_result"
    },
    {
     "data": {
      "image/png": "[encoded data removed]",
      "text/plain": [
       "<Figure size 936x504 with 1 Axes>"
      ]
     },
     "metadata": {
      "needs_background": "light"
     },
     "output_type": "display_data"
    }
   ],
   "source": [
    "plt.figure(figsize=(13, 7))\n",
    "clf1 = clf1.fit(X_train, y_train)\n",
    "plot_tree(clf1, feature_names=X_train.columns.tolist(), class_names=['d','a'], rounded=True)"
   ]
  },
  {
   "cell_type": "code",
   "execution_count": 292,
   "id": "43a7b3a2",
   "metadata": {},
   "outputs": [
    {
     "name": "stdout",
     "output_type": "stream",
     "text": [
      "training score: 79.07%\n"
     ]
    },
    {
     "data": {
      "text/plain": [
       "array(['0', '1', '0', '1', '1'], dtype=object)"
      ]
     },
     "execution_count": 292,
     "metadata": {},
     "output_type": "execute_result"
    }
   ],
   "source": [
    "y_pred = clf.predict(X_train)\n",
    "print(f'training score: {clf1.score(X_train, y_train):.2%}')\n",
    "y_pred[0:5]"
   ]
  },
  {
   "cell_type": "code",
   "execution_count": 293,
   "id": "e5212897",
   "metadata": {},
   "outputs": [
    {
     "data": {
      "text/plain": [
       "array([[0.60465116, 0.39534884],\n",
       "       [0.        , 1.        ],\n",
       "       [0.91304348, 0.08695652],\n",
       "       [0.        , 1.        ],\n",
       "       [0.13333333, 0.86666667]])"
      ]
     },
     "execution_count": 293,
     "metadata": {},
     "output_type": "execute_result"
    }
   ],
   "source": [
    "y_pred_proba = clf.predict_proba(X_train)\n",
    "y_pred_proba[0:5]"
   ]
  },
  {
   "cell_type": "code",
   "execution_count": 294,
   "id": "88c7cdeb",
   "metadata": {},
   "outputs": [
    {
     "data": {
      "text/plain": [
       "0    307\n",
       "1    190\n",
       "Name: survived, dtype: int64"
      ]
     },
     "execution_count": 294,
     "metadata": {},
     "output_type": "execute_result"
    }
   ],
   "source": [
    "#males and females\n",
    "y_train.value_counts()"
   ]
  },
  {
   "cell_type": "code",
   "execution_count": 310,
   "id": "9d8f43e4",
   "metadata": {},
   "outputs": [
    {
     "name": "stdout",
     "output_type": "stream",
     "text": [
      "accuracy: 84.51%\n",
      "true positive rate / recall: 47.37%\n",
      "true negative rate / Specificity: 92.18%\n",
      "false potivie rate / Percision: 85.09%\n",
      "false negative rate: 84.23%\n",
      "f1-score: 78.06%\n",
      "support: 161\n"
     ]
    }
   ],
   "source": [
    "TP = ((train.survived == 1) & (clf.predict(X_train) == 1)).sum()\n",
    "FP = ((train.survived == 0) & (clf.predict(X_train) == 1)).sum()\n",
    "TN = ((train.survived == 0) & (clf.predict(X_train) == 0)).sum()\n",
    "FN = ((train.survived == 1) & (clf.predict(X_train) == 0)).sum()\n",
    "\n",
    "print(f'accuracy: {met.accuracy_score(train.survived, clf.predict(X_train)):.2%}')\n",
    "print(f'true positive rate / recall: {met.recall_score(train.survived, clf1.predict(X_train)):.2%}')\n",
    "print(f'true negative rate / Specificity: {(TN)/(FP+TN):.2%}')\n",
    "print(f'false potivie rate / Percision: {met.precision_score(train.survived, clf.predict(X_train)):.2%}')\n",
    "print(f'false negative rate: {(TN)/(TN+FN):.2%}')\n",
    "print(f'f1-score: {met.f1_score(train.survived, clf.predict(X_train)):.2%}')\n",
    "print(f'support: {clf.predict(X_train).sum()}')"
   ]
  },
  {
   "cell_type": "code",
   "execution_count": 299,
   "id": "053ceead",
   "metadata": {},
   "outputs": [
    {
     "data": {
      "image/png": "[encoded data removed]",
      "text/plain": [
       "<Figure size 936x504 with 1 Axes>"
      ]
     },
     "metadata": {
      "needs_background": "light"
     },
     "output_type": "display_data"
    }
   ],
   "source": [
    "clf = DecisionTreeClassifier(max_depth=4, random_state=123)\n",
    "plt.figure(figsize=(13, 7))\n",
    "clf = clf.fit(X_train, y_train)\n",
    "plot_tree(clf, feature_names=X_train.columns.tolist(),class_names=['d','a'], rounded=True)\n",
    "plt.show()"
   ]
  },
  {
   "cell_type": "code",
   "execution_count": 300,
   "id": "e55e11f7",
   "metadata": {},
   "outputs": [
    {
     "name": "stdout",
     "output_type": "stream",
     "text": [
      "training score: 84.51%\n"
     ]
    }
   ],
   "source": [
    "print(f'training score: {clf.score(X_train, y_train):.2%}')"
   ]
  },
  {
   "cell_type": "code",
   "execution_count": 301,
   "id": "ea466bea",
   "metadata": {},
   "outputs": [
    {
     "data": {
      "text/html": [
       "<div>\n",
       "<style scoped>\n",
       "    .dataframe tbody tr th:only-of-type {\n",
       "        vertical-align: middle;\n",
       "    }\n",
       "\n",
       "    .dataframe tbody tr th {\n",
       "        vertical-align: top;\n",
       "    }\n",
       "\n",
       "    .dataframe thead th {\n",
       "        text-align: right;\n",
       "    }\n",
       "</style>\n",
       "<table border=\"1\" class=\"dataframe\">\n",
       "  <thead>\n",
       "    <tr style=\"text-align: right;\">\n",
       "      <th></th>\n",
       "      <th>0</th>\n",
       "      <th>1</th>\n",
       "      <th>accuracy</th>\n",
       "      <th>macro avg</th>\n",
       "      <th>weighted avg</th>\n",
       "    </tr>\n",
       "  </thead>\n",
       "  <tbody>\n",
       "    <tr>\n",
       "      <th>precision</th>\n",
       "      <td>0.751861</td>\n",
       "      <td>0.957447</td>\n",
       "      <td>0.790744</td>\n",
       "      <td>0.854654</td>\n",
       "      <td>0.830455</td>\n",
       "    </tr>\n",
       "    <tr>\n",
       "      <th>recall</th>\n",
       "      <td>0.986971</td>\n",
       "      <td>0.473684</td>\n",
       "      <td>0.790744</td>\n",
       "      <td>0.730327</td>\n",
       "      <td>0.790744</td>\n",
       "    </tr>\n",
       "    <tr>\n",
       "      <th>f1-score</th>\n",
       "      <td>0.853521</td>\n",
       "      <td>0.633803</td>\n",
       "      <td>0.790744</td>\n",
       "      <td>0.743662</td>\n",
       "      <td>0.769524</td>\n",
       "    </tr>\n",
       "    <tr>\n",
       "      <th>support</th>\n",
       "      <td>307.000000</td>\n",
       "      <td>190.000000</td>\n",
       "      <td>0.790744</td>\n",
       "      <td>497.000000</td>\n",
       "      <td>497.000000</td>\n",
       "    </tr>\n",
       "  </tbody>\n",
       "</table>\n",
       "</div>"
      ],
      "text/plain": [
       "                    0           1  accuracy   macro avg  weighted avg\n",
       "precision    0.751861    0.957447  0.790744    0.854654      0.830455\n",
       "recall       0.986971    0.473684  0.790744    0.730327      0.790744\n",
       "f1-score     0.853521    0.633803  0.790744    0.743662      0.769524\n",
       "support    307.000000  190.000000  0.790744  497.000000    497.000000"
      ]
     },
     "execution_count": 301,
     "metadata": {},
     "output_type": "execute_result"
    }
   ],
   "source": [
    "pd.DataFrame(met.classification_report(train.survived, clf1.predict(X_train), output_dict=True))"
   ]
  },
  {
   "cell_type": "code",
   "execution_count": 318,
   "id": "e6e42592",
   "metadata": {},
   "outputs": [
    {
     "name": "stdout",
     "output_type": "stream",
     "text": [
      "CLF Accuracy: 84.51%\n",
      "CLF-1 Accuracy: 79.07%\n",
      "Baseline Accuracy: 0.00%\n"
     ]
    }
   ],
   "source": [
    "print(f'CLF Accuracy: {met.accuracy_score(train.survived, clf.predict(X_train)):.2%}')\n",
    "print(f'CLF-1 Accuracy: {met.accuracy_score(train.survived, clf1.predict(X_train)):.2%}')\n",
    "print(f'Baseline Accuracy: {met.accuracy_score(train.survived, baseline_train):.2%}')\n",
    "#model CLF perform the best out of all the models"
   ]
  },
  {
   "cell_type": "code",
   "execution_count": 319,
   "id": "2f1d6153",
   "metadata": {},
   "outputs": [
    {
     "name": "stdout",
     "output_type": "stream",
     "text": [
      "CLF Accuracy: 74.30%\n",
      "CLF-1 Accuracy: 78.04%\n",
      "Baseline Accuracy: 0.00%\n"
     ]
    }
   ],
   "source": [
    "# Which model performs better on your in-sample data?\n",
    "# CLD-1 was the most accuracy\n",
    "print(f'CLF Accuracy: {met.accuracy_score(val.survived, clf.predict(X_val)):.2%}')\n",
    "print(f'CLF-1 Accuracy: {met.accuracy_score(val.survived, clf1.predict(X_val)):.2%}')\n",
    "print(f'Baseline Accuracy: {met.accuracy_score(val.survived, baseline_val):.2%}')"
   ]
  },
  {
   "cell_type": "markdown",
   "id": "f950c787",
   "metadata": {},
   "source": [
    "# Exercises- random forest \n",
    "\n",
    "Continue working in your model file with titanic data to do the following:\n",
    "\n",
    "Fit the Random Forest classifier to your training sample and transform (i.e. make predictions on the training sample) setting the random_state accordingly and setting min_samples_leaf = 1 and max_depth = 10.\n",
    "\n",
    "Evaluate your results using the model score, confusion matrix, and classification report.\n",
    "\n",
    "Print and clearly label the following: Accuracy, true positive rate, false positive rate, true negative rate, false negative rate, precision, recall, f1-score, and support.\n",
    "\n",
    "Run through steps increasing your min_samples_leaf and decreasing your max_depth.\n",
    "\n",
    "What are the differences in the evaluation metrics? Which performs better on your in-sample data? Why?\n",
    "\n",
    "\n",
    "A-the sample size of 5 with depth of 5 perform worse the more deep and less sample \n",
    "\n",
    "After making a few models, which one has the best performance (or closest metrics) on both train and validate?"
   ]
  },
  {
   "cell_type": "code",
   "execution_count": 320,
   "id": "7545dc44",
   "metadata": {},
   "outputs": [],
   "source": [
    "from sklearn.ensemble import RandomForestClassifier"
   ]
  },
  {
   "cell_type": "code",
   "execution_count": 396,
   "id": "037dc585",
   "metadata": {},
   "outputs": [
    {
     "name": "stdout",
     "output_type": "stream",
     "text": [
      "Accuracy of random forest classifier on training set: 0.97\n"
     ]
    }
   ],
   "source": [
    "rf = RandomForestClassifier(bootstrap=True, \n",
    "                            class_weight=None, \n",
    "                            criterion='gini',\n",
    "                            min_samples_leaf=1,\n",
    "                            n_estimators=100,\n",
    "                            max_depth=10, \n",
    "                            random_state=123)\n",
    "rf.fit(X_train, y_train)\n",
    "y_pred = rf.predict(X_train)\n",
    "print('Accuracy of random forest classifier on training set: {:.2f}'\n",
    "     .format(rf.score(X_train, y_train)))"
   ]
  },
  {
   "cell_type": "code",
   "execution_count": 397,
   "id": "d32db2a3",
   "metadata": {},
   "outputs": [
    {
     "name": "stdout",
     "output_type": "stream",
     "text": [
      "              precision    recall  f1-score   support\n",
      "\n",
      "           0       0.95      1.00      0.97       307\n",
      "           1       1.00      0.91      0.95       190\n",
      "\n",
      "    accuracy                           0.97       497\n",
      "   macro avg       0.97      0.96      0.96       497\n",
      "weighted avg       0.97      0.97      0.97       497\n",
      "\n",
      "[[307   0]\n",
      " [ 17 173]]\n"
     ]
    },
    {
     "data": {
      "image/png": "[encoded data removed]",
      "text/plain": [
       "<Figure size 432x288 with 2 Axes>"
      ]
     },
     "metadata": {
      "needs_background": "light"
     },
     "output_type": "display_data"
    }
   ],
   "source": [
    "cm = confusion_matrix(y_train, y_pred)\n",
    "print(classification_report(y_train, y_pred))\n",
    "print(confusion_matrix(y_train, y_pred))\n",
    "disp = ConfusionMatrixDisplay(confusion_matrix=cm, display_labels=rf.classes_)\n",
    "\n",
    "disp.plot()\n",
    "plt.show()"
   ]
  },
  {
   "cell_type": "code",
   "execution_count": 399,
   "id": "365e0d40",
   "metadata": {},
   "outputs": [
    {
     "name": "stdout",
     "output_type": "stream",
     "text": [
      "accuracy: 96.58%\n",
      "true positive rate / recall: 91.05%\n",
      "true negative rate / Specificity: 100.00%\n",
      "false potivie rate / Percision: 100.00%\n",
      "false negative rate: 94.75%\n",
      "f1-score: 95.32%\n",
      "support: 173\n"
     ]
    }
   ],
   "source": [
    "TP = ((train.survived == 1) & (rf.predict(X_train) == 1)).sum()\n",
    "FP = ((train.survived == 0) & (rf.predict(X_train) == 1)).sum()\n",
    "TN = ((train.survived == 0) & (rf.predict(X_train) == 0)).sum()\n",
    "FN = ((train.survived == 1) & (rf.predict(X_train) == 0)).sum()\n",
    "\n",
    "print(f'accuracy: {met.accuracy_score(train.survived, rf.predict(X_train)):.2%}')\n",
    "print(f'true positive rate / recall: {met.recall_score(train.survived, rf.predict(X_train)):.2%}')\n",
    "print(f'true negative rate / Specificity: {(TN)/(FP+TN):.2%}')\n",
    "print(f'false potivie rate / Percision: {met.precision_score(train.survived, rf.predict(X_train)):.2%}')\n",
    "print(f'false negative rate: {(TN)/(TN+FN):.2%}')\n",
    "print(f'f1-score: {met.f1_score(train.survived, rf.predict(X_train)):.2%}')\n",
    "print(f'support: {rf.predict(X_train).sum()}')"
   ]
  },
  {
   "cell_type": "markdown",
   "id": "fab1f485",
   "metadata": {},
   "source": [
    "# Randomforestclassifier(2)"
   ]
  },
  {
   "cell_type": "code",
   "execution_count": 393,
   "id": "8bbd75b0",
   "metadata": {},
   "outputs": [
    {
     "name": "stdout",
     "output_type": "stream",
     "text": [
      "Accuracy of random forest classifier on training set: 0.85\n"
     ]
    }
   ],
   "source": [
    "rf = RandomForestClassifier(bootstrap=True, \n",
    "                            class_weight=None, \n",
    "                            criterion='gini',\n",
    "                            min_samples_leaf=5,\n",
    "                            n_estimators=100,\n",
    "                            max_depth=5, \n",
    "                            random_state=123)\n",
    "# samples 5 and depth 5 with a percent chance of 85 \n",
    "rf.fit(X_train, y_train)\n",
    "y_pred = rf.predict(X_train)\n",
    "print('Accuracy of random forest classifier on training set: {:.2f}'\n",
    "     .format(rf.score(X_train, y_train)))"
   ]
  },
  {
   "cell_type": "code",
   "execution_count": 394,
   "id": "92c8a0b8",
   "metadata": {},
   "outputs": [
    {
     "name": "stdout",
     "output_type": "stream",
     "text": [
      "accuracy: 84.51%\n",
      "true positive rate / recall: 70.00%\n",
      "true negative rate / Specificity: 93.49%\n",
      "false potivie rate / Percision: 86.93%\n",
      "false negative rate: 83.43%\n",
      "f1-score: 77.55%\n",
      "support: 153\n"
     ]
    }
   ],
   "source": [
    "TP = ((train.survived == 1) & (rf.predict(X_train) == 1)).sum()\n",
    "FP = ((train.survived == 0) & (rf.predict(X_train) == 1)).sum()\n",
    "TN = ((train.survived == 0) & (rf.predict(X_train) == 0)).sum()\n",
    "FN = ((train.survived == 1) & (rf.predict(X_train) == 0)).sum()\n",
    "\n",
    "print(f'accuracy: {met.accuracy_score(train.survived, rf.predict(X_train)):.2%}')\n",
    "print(f'true positive rate / recall: {met.recall_score(train.survived, rf.predict(X_train)):.2%}')\n",
    "print(f'true negative rate / Specificity: {(TN)/(FP+TN):.2%}')\n",
    "print(f'false potivie rate / Percision: {met.precision_score(train.survived, rf.predict(X_train)):.2%}')\n",
    "print(f'false negative rate: {(TN)/(TN+FN):.2%}')\n",
    "print(f'f1-score: {met.f1_score(train.survived, rf.predict(X_train)):.2%}')\n",
    "print(f'support: {rf.predict(X_train).sum()}')"
   ]
  },
  {
   "cell_type": "code",
   "execution_count": 395,
   "id": "ee81be1a",
   "metadata": {},
   "outputs": [
    {
     "name": "stdout",
     "output_type": "stream",
     "text": [
      "              precision    recall  f1-score   support\n",
      "\n",
      "           0       0.83      0.93      0.88       307\n",
      "           1       0.87      0.70      0.78       190\n",
      "\n",
      "    accuracy                           0.85       497\n",
      "   macro avg       0.85      0.82      0.83       497\n",
      "weighted avg       0.85      0.85      0.84       497\n",
      "\n",
      "[[287  20]\n",
      " [ 57 133]]\n"
     ]
    },
    {
     "data": {
      "image/png": "[encoded data removed]",
      "text/plain": [
       "<Figure size 432x288 with 2 Axes>"
      ]
     },
     "metadata": {
      "needs_background": "light"
     },
     "output_type": "display_data"
    }
   ],
   "source": [
    "cm = confusion_matrix(y_train, y_pred)\n",
    "print(classification_report(y_train, y_pred))\n",
    "print(confusion_matrix(y_train, y_pred))\n",
    "disp = ConfusionMatrixDisplay(confusion_matrix=cm, display_labels=rf.classes_)\n",
    "\n",
    "disp.plot()\n",
    "plt.show()"
   ]
  },
  {
   "cell_type": "markdown",
   "id": "d3277a7d",
   "metadata": {},
   "source": [
    "# K-Nearest Neighbor\n",
    "Exercises\n",
    "\n",
    "Continue working in your model file with the titanic dataset.\n",
    "\n",
    "Fit a K-Nearest Neighbors classifier to your training sample and transform (i.e. make predictions on the training sample)\n",
    "\n",
    "Evaluate your results using the model score, confusion matrix, and classification report.\n",
    "\n",
    "Print and clearly label the following: Accuracy, true positive rate, false positive rate, true negative rate, false negative rate, precision, recall, f1-score, and support.\n",
    "\n",
    "Run through steps 2-4 setting k to 10\n",
    "\n",
    "Run through setps 2-4 setting k to 20\n",
    "\n",
    "What are the differences in the evaluation metrics? Which performs better on your in-sample data? Why?\n",
    "\n",
    "----KNN 2 perform better cause more neightbors so better accuracy and best result.\n",
    "\n",
    "Which model performs best on our out-of-sample data from validate?\n",
    "\n",
    "----both KNN perform the same ???"
   ]
  },
  {
   "cell_type": "code",
   "execution_count": 402,
   "id": "2ca2e9f9",
   "metadata": {},
   "outputs": [],
   "source": [
    "from sklearn.neighbors import KNeighborsClassifier"
   ]
  },
  {
   "cell_type": "code",
   "execution_count": 459,
   "id": "3940f763",
   "metadata": {},
   "outputs": [
    {
     "data": {
      "text/plain": [
       "KNeighborsClassifier(n_neighbors=10)"
      ]
     },
     "execution_count": 459,
     "metadata": {},
     "output_type": "execute_result"
    }
   ],
   "source": [
    "knn = KNeighborsClassifier(n_neighbors=10)\n",
    "knn.fit(X_train, y_train)"
   ]
  },
  {
   "cell_type": "code",
   "execution_count": 460,
   "id": "f16999bd",
   "metadata": {},
   "outputs": [],
   "source": [
    "y_pred = knn.predict(X_train)\n",
    "y_pred_proba = knn.predict_proba(X_train)"
   ]
  },
  {
   "cell_type": "code",
   "execution_count": 461,
   "id": "74b15eca",
   "metadata": {},
   "outputs": [
    {
     "name": "stdout",
     "output_type": "stream",
     "text": [
      "Accuracy of KNN classifier on training set: 0.71\n",
      "[[279  28]\n",
      " [118  72]]\n",
      "              precision    recall  f1-score   support\n",
      "\n",
      "           0       0.70      0.91      0.79       307\n",
      "           1       0.72      0.38      0.50       190\n",
      "\n",
      "    accuracy                           0.71       497\n",
      "   macro avg       0.71      0.64      0.64       497\n",
      "weighted avg       0.71      0.71      0.68       497\n",
      "\n"
     ]
    }
   ],
   "source": [
    "print('Accuracy of KNN classifier on training set: {:.2f}'\n",
    "     .format(knn.score(X_train, y_train)))\n",
    "print(confusion_matrix(y_train, y_pred))\n",
    "print(classification_report(y_train, y_pred))"
   ]
  },
  {
   "cell_type": "code",
   "execution_count": 462,
   "id": "a34f4a32",
   "metadata": {},
   "outputs": [
    {
     "name": "stdout",
     "output_type": "stream",
     "text": [
      "accuracy: 70.62%\n",
      "true positive rate / recall: 37.89%\n",
      "true negative rate / Specificity: 90.88%\n",
      "false potivie rate / Percision: 72.00%\n",
      "false negative rate: 70.28%\n",
      "f1-score: 49.66%\n",
      "support: 100\n"
     ]
    }
   ],
   "source": [
    "TP = ((train.survived == 1) & (knn.predict(X_train) == 1)).sum()\n",
    "FP = ((train.survived == 0) & (knn.predict(X_train) == 1)).sum()\n",
    "TN = ((train.survived == 0) & (knn.predict(X_train) == 0)).sum()\n",
    "FN = ((train.survived == 1) & (knn.predict(X_train) == 0)).sum()\n",
    "\n",
    "print(f'accuracy: {met.accuracy_score(train.survived, knn.predict(X_train)):.2%}')\n",
    "print(f'true positive rate / recall: {met.recall_score(train.survived, knn.predict(X_train)):.2%}')\n",
    "print(f'true negative rate / Specificity: {(TN)/(FP+TN):.2%}')\n",
    "print(f'false potivie rate / Percision: {met.precision_score(train.survived, knn.predict(X_train)):.2%}')\n",
    "print(f'false negative rate: {(TN)/(TN+FN):.2%}')\n",
    "print(f'f1-score: {met.f1_score(train.survived, knn.predict(X_train)):.2%}')\n",
    "print(f'support: {knn.predict(X_train).sum()}')"
   ]
  },
  {
   "cell_type": "code",
   "execution_count": 473,
   "id": "c7e99dcc",
   "metadata": {},
   "outputs": [
    {
     "data": {
      "image/png": "[encoded data removed]",
      "text/plain": [
       "<Figure size 432x288 with 1 Axes>"
      ]
     },
     "metadata": {},
     "output_type": "display_data"
    }
   ],
   "source": [
    "import matplotlib.pyplot as plt\n",
    "k_range = range(1, 10)\n",
    "scores = []\n",
    "for k in k_range:\n",
    "    knn = KNeighborsClassifier(n_neighbors = k)\n",
    "    knn.fit(X_train, y_train)\n",
    "    scores.append(knn.score(X_test, y_test))\n",
    "plt.style.use('dark_background')\n",
    "plt.figure()\n",
    "plt.xlabel('k')\n",
    "plt.ylabel('accuracy')\n",
    "plt.scatter(k_range, scores)\n",
    "plt.xticks([0,5,10])\n",
    "plt.show()\n"
   ]
  },
  {
   "cell_type": "code",
   "execution_count": 464,
   "id": "f05b795d",
   "metadata": {},
   "outputs": [
    {
     "name": "stdout",
     "output_type": "stream",
     "text": [
      "Accuracy of KNN classifier on test set: 0.68\n"
     ]
    }
   ],
   "source": [
    "print('Accuracy of KNN classifier on test set: {:.2f}'\n",
    "     .format(knn.score(X_val, y_val)))"
   ]
  },
  {
   "cell_type": "markdown",
   "id": "181c3eff",
   "metadata": {},
   "source": [
    "# knn(2)"
   ]
  },
  {
   "cell_type": "code",
   "execution_count": 465,
   "id": "205043c2",
   "metadata": {},
   "outputs": [
    {
     "data": {
      "text/plain": [
       "KNeighborsClassifier(n_neighbors=20)"
      ]
     },
     "execution_count": 465,
     "metadata": {},
     "output_type": "execute_result"
    }
   ],
   "source": [
    "knn = KNeighborsClassifier(n_neighbors=20, weights='uniform')\n",
    "knn.fit(X_train, y_train)"
   ]
  },
  {
   "cell_type": "code",
   "execution_count": 466,
   "id": "4ba62523",
   "metadata": {},
   "outputs": [],
   "source": [
    "y_pred = knn.predict(X_train)\n",
    "y_pred_proba = knn.predict_proba(X_train)"
   ]
  },
  {
   "cell_type": "code",
   "execution_count": 467,
   "id": "1ac11937",
   "metadata": {},
   "outputs": [
    {
     "name": "stdout",
     "output_type": "stream",
     "text": [
      "Accuracy of KNN classifier on training set: 0.68\n",
      "[[281  26]\n",
      " [133  57]]\n",
      "              precision    recall  f1-score   support\n",
      "\n",
      "           0       0.68      0.92      0.78       307\n",
      "           1       0.69      0.30      0.42       190\n",
      "\n",
      "    accuracy                           0.68       497\n",
      "   macro avg       0.68      0.61      0.60       497\n",
      "weighted avg       0.68      0.68      0.64       497\n",
      "\n"
     ]
    }
   ],
   "source": [
    "print('Accuracy of KNN classifier on training set: {:.2f}'\n",
    "     .format(knn.score(X_train, y_train)))\n",
    "print(confusion_matrix(y_train, y_pred))\n",
    "print(classification_report(y_train, y_pred))"
   ]
  },
  {
   "cell_type": "code",
   "execution_count": 468,
   "id": "725dec3e",
   "metadata": {},
   "outputs": [
    {
     "name": "stdout",
     "output_type": "stream",
     "text": [
      "accuracy: 68.01%\n",
      "true positive rate / recall: 30.00%\n",
      "true negative rate / Specificity: 91.53%\n",
      "false potivie rate / Percision: 68.67%\n",
      "false negative rate: 67.87%\n",
      "f1-score: 41.76%\n",
      "support: 83\n"
     ]
    }
   ],
   "source": [
    "TP = ((train.survived == 1) & (knn.predict(X_train) == 1)).sum()\n",
    "FP = ((train.survived == 0) & (knn.predict(X_train) == 1)).sum()\n",
    "TN = ((train.survived == 0) & (knn.predict(X_train) == 0)).sum()\n",
    "FN = ((train.survived == 1) & (knn.predict(X_train) == 0)).sum()\n",
    "\n",
    "print(f'accuracy: {met.accuracy_score(train.survived, knn.predict(X_train)):.2%}')\n",
    "print(f'true positive rate / recall: {met.recall_score(train.survived, knn.predict(X_train)):.2%}')\n",
    "print(f'true negative rate / Specificity: {(TN)/(FP+TN):.2%}')\n",
    "print(f'false potivie rate / Percision: {met.precision_score(train.survived, knn.predict(X_train)):.2%}')\n",
    "print(f'false negative rate: {(TN)/(TN+FN):.2%}')\n",
    "print(f'f1-score: {met.f1_score(train.survived, knn.predict(X_train)):.2%}')\n",
    "print(f'support: {knn.predict(X_train).sum()}')"
   ]
  },
  {
   "cell_type": "code",
   "execution_count": 474,
   "id": "c753eb02",
   "metadata": {},
   "outputs": [
    {
     "data": {
      "image/png": "[encoded data removed]",
      "text/plain": [
       "<Figure size 432x288 with 1 Axes>"
      ]
     },
     "metadata": {},
     "output_type": "display_data"
    }
   ],
   "source": [
    "import matplotlib.pyplot as plt\n",
    "k_range = range(1, 20)\n",
    "scores = []\n",
    "for k in k_range:\n",
    "    knn = KNeighborsClassifier(n_neighbors = k)\n",
    "    knn.fit(X_train, y_train)\n",
    "    scores.append(knn.score(X_test, y_test))\n",
    "plt.style.use('dark_background')\n",
    "plt.figure()\n",
    "plt.xlabel('k')\n",
    "plt.ylabel('accuracy')\n",
    "plt.scatter(k_range, scores)\n",
    "plt.show()"
   ]
  },
  {
   "cell_type": "code",
   "execution_count": 471,
   "id": "d9273f60",
   "metadata": {},
   "outputs": [
    {
     "name": "stdout",
     "output_type": "stream",
     "text": [
      "Accuracy of KNN classifier on test set: 0.68\n"
     ]
    }
   ],
   "source": [
    "print('Accuracy of KNN classifier on test set: {:.2f}'\n",
    "     .format(knn.score(X_val, y_val)))"
   ]
  }
 ],
 "metadata": {
  "kernelspec": {
   "display_name": "Python 3 (ipykernel)",
   "language": "python",
   "name": "python3"
  },
  "language_info": {
   "codemirror_mode": {
    "name": "ipython",
    "version": 3
   },
   "file_extension": ".py",
   "mimetype": "text/x-python",
   "name": "python",
   "nbconvert_exporter": "python",
   "pygments_lexer": "ipython3",
   "version": "3.9.12"
  }
 },
 "nbformat": 4,
 "nbformat_minor": 5
}
