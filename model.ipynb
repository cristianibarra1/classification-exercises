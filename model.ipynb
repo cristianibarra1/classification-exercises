{
 "cells": [
  {
   "cell_type": "code",
   "execution_count": 172,
   "id": "6e150c55",
   "metadata": {},
   "outputs": [],
   "source": [
    "import pandas as pd \n",
    "import numpy as np \n",
    "import env as e\n",
    "import prepare as pr\n",
    "import acquire as ac\n",
    "from sklearn.model_selection import train_test_split\n",
    "from sklearn.tree import DecisionTreeClassifier, plot_tree\n",
    "from sklearn.metrics import classification_report\n",
    "from sklearn.metrics import confusion_matrix\n",
    "\n",
    "import matplotlib.pyplot as plt\n",
    "import seaborn as sns\n",
    "import warnings\n",
    "warnings.filterwarnings(\"ignore\")\n",
    "import re\n",
    "import sklearn.metrics as met"
   ]
  },
  {
   "cell_type": "markdown",
   "id": "165a4fd1",
   "metadata": {},
   "source": [
    "# Using the titanic data, in your classification-exercises repository, create a notebook, model.ipynb where you will do the following:\n",
    "\n",
    "1)What is your baseline prediction? What is your baseline accuracy? remember: your baseline prediction for a classification problem is predicting the most prevelant class in the training dataset (the mode). When you make those predictions, what is your accuracy? This is your baseline accuracy.\n",
    "\n",
    "2)Fit the decision tree classifier to your training sample and transform (i.e. make predictions on the training sample)\n",
    "\n",
    "3)Evaluate your in-sample results using the model score, confusion matrix, and classification report.\n",
    "\n",
    "4)Compute: Accuracy, true positive rate, false positive rate, true negative rate, false negative rate, precision, recall, f1-score, and support.\n",
    "\n",
    "5)Run through steps 2-4 using a different max_depth value.\n",
    "\n",
    "6)Which model performs better on your in-sample data?\n",
    "\n",
    "7)Which model performs best on your out-of-sample data, the validate set?"
   ]
  },
  {
   "cell_type": "code",
   "execution_count": 259,
   "id": "a6367b5f",
   "metadata": {},
   "outputs": [
    {
     "data": {
      "text/html": [
       "<div>\n",
       "<style scoped>\n",
       "    .dataframe tbody tr th:only-of-type {\n",
       "        vertical-align: middle;\n",
       "    }\n",
       "\n",
       "    .dataframe tbody tr th {\n",
       "        vertical-align: top;\n",
       "    }\n",
       "\n",
       "    .dataframe thead th {\n",
       "        text-align: right;\n",
       "    }\n",
       "</style>\n",
       "<table border=\"1\" class=\"dataframe\">\n",
       "  <thead>\n",
       "    <tr style=\"text-align: right;\">\n",
       "      <th></th>\n",
       "      <th>passenger_id</th>\n",
       "      <th>survived</th>\n",
       "      <th>pclass</th>\n",
       "      <th>sex</th>\n",
       "      <th>sibsp</th>\n",
       "      <th>parch</th>\n",
       "      <th>fare</th>\n",
       "      <th>embark_town</th>\n",
       "      <th>alone</th>\n",
       "      <th>sex_male</th>\n",
       "      <th>embark_town_Queenstown</th>\n",
       "      <th>embark_town_Southampton</th>\n",
       "    </tr>\n",
       "  </thead>\n",
       "  <tbody>\n",
       "    <tr>\n",
       "      <th>0</th>\n",
       "      <td>0</td>\n",
       "      <td>0</td>\n",
       "      <td>3</td>\n",
       "      <td>male</td>\n",
       "      <td>1</td>\n",
       "      <td>0</td>\n",
       "      <td>7.2500</td>\n",
       "      <td>Southampton</td>\n",
       "      <td>0</td>\n",
       "      <td>1</td>\n",
       "      <td>0</td>\n",
       "      <td>1</td>\n",
       "    </tr>\n",
       "    <tr>\n",
       "      <th>1</th>\n",
       "      <td>1</td>\n",
       "      <td>1</td>\n",
       "      <td>1</td>\n",
       "      <td>female</td>\n",
       "      <td>1</td>\n",
       "      <td>0</td>\n",
       "      <td>71.2833</td>\n",
       "      <td>Cherbourg</td>\n",
       "      <td>0</td>\n",
       "      <td>0</td>\n",
       "      <td>0</td>\n",
       "      <td>0</td>\n",
       "    </tr>\n",
       "    <tr>\n",
       "      <th>2</th>\n",
       "      <td>2</td>\n",
       "      <td>1</td>\n",
       "      <td>3</td>\n",
       "      <td>female</td>\n",
       "      <td>0</td>\n",
       "      <td>0</td>\n",
       "      <td>7.9250</td>\n",
       "      <td>Southampton</td>\n",
       "      <td>1</td>\n",
       "      <td>0</td>\n",
       "      <td>0</td>\n",
       "      <td>1</td>\n",
       "    </tr>\n",
       "    <tr>\n",
       "      <th>3</th>\n",
       "      <td>3</td>\n",
       "      <td>1</td>\n",
       "      <td>1</td>\n",
       "      <td>female</td>\n",
       "      <td>1</td>\n",
       "      <td>0</td>\n",
       "      <td>53.1000</td>\n",
       "      <td>Southampton</td>\n",
       "      <td>0</td>\n",
       "      <td>0</td>\n",
       "      <td>0</td>\n",
       "      <td>1</td>\n",
       "    </tr>\n",
       "    <tr>\n",
       "      <th>4</th>\n",
       "      <td>4</td>\n",
       "      <td>0</td>\n",
       "      <td>3</td>\n",
       "      <td>male</td>\n",
       "      <td>0</td>\n",
       "      <td>0</td>\n",
       "      <td>8.0500</td>\n",
       "      <td>Southampton</td>\n",
       "      <td>1</td>\n",
       "      <td>1</td>\n",
       "      <td>0</td>\n",
       "      <td>1</td>\n",
       "    </tr>\n",
       "  </tbody>\n",
       "</table>\n",
       "</div>"
      ],
      "text/plain": [
       "   passenger_id  survived  pclass     sex  sibsp  parch     fare  embark_town  \\\n",
       "0             0         0       3    male      1      0   7.2500  Southampton   \n",
       "1             1         1       1  female      1      0  71.2833    Cherbourg   \n",
       "2             2         1       3  female      0      0   7.9250  Southampton   \n",
       "3             3         1       1  female      1      0  53.1000  Southampton   \n",
       "4             4         0       3    male      0      0   8.0500  Southampton   \n",
       "\n",
       "   alone  sex_male  embark_town_Queenstown  embark_town_Southampton  \n",
       "0      0         1                       0                        1  \n",
       "1      0         0                       0                        0  \n",
       "2      1         0                       0                        1  \n",
       "3      0         0                       0                        1  \n",
       "4      1         1                       0                        1  "
      ]
     },
     "execution_count": 259,
     "metadata": {},
     "output_type": "execute_result"
    }
   ],
   "source": [
    "df_titanic= ac.get_titanic_data()\n",
    "df_titanic=pr.prep_titanic(df_titanic)\n",
    "df_titanic.dropna(inplace=True)\n",
    "df_titanic.head()"
   ]
  },
  {
   "cell_type": "code",
   "execution_count": 260,
   "id": "1b2c3d06",
   "metadata": {},
   "outputs": [],
   "source": [
    "df_titanic= df_titanic.drop(columns=(['sex','embark_town']))"
   ]
  },
  {
   "cell_type": "code",
   "execution_count": 261,
   "id": "0fc2b169",
   "metadata": {},
   "outputs": [
    {
     "name": "stdout",
     "output_type": "stream",
     "text": [
      "<class 'pandas.core.frame.DataFrame'>\n",
      "Int64Index: 889 entries, 0 to 890\n",
      "Data columns (total 10 columns):\n",
      " #   Column                   Non-Null Count  Dtype \n",
      "---  ------                   --------------  ----- \n",
      " 0   passenger_id             889 non-null    object\n",
      " 1   survived                 889 non-null    object\n",
      " 2   pclass                   889 non-null    object\n",
      " 3   sibsp                    889 non-null    object\n",
      " 4   parch                    889 non-null    object\n",
      " 5   fare                     889 non-null    object\n",
      " 6   alone                    889 non-null    object\n",
      " 7   sex_male                 889 non-null    object\n",
      " 8   embark_town_Queenstown   889 non-null    object\n",
      " 9   embark_town_Southampton  889 non-null    object\n",
      "dtypes: object(10)\n",
      "memory usage: 76.4+ KB\n"
     ]
    }
   ],
   "source": [
    "df_titanic=df_titanic.astype(str)\n",
    "df_titanic.info()"
   ]
  },
  {
   "cell_type": "code",
   "execution_count": 262,
   "id": "d0e5b7d8",
   "metadata": {},
   "outputs": [
    {
     "name": "stdout",
     "output_type": "stream",
     "text": [
      "train_titanic -> (497, 10)\n",
      "validate_titanic -> (214, 10)\n",
      "test_titanic -> (178, 10)\n",
      "0    0\n",
      "Name: survived, dtype: object\n"
     ]
    }
   ],
   "source": [
    "train, test = train_test_split(df_titanic, test_size=.2, random_state=123, stratify=df_titanic.survived)\n",
    "train, val = train_test_split(train, test_size=.3, random_state=123, stratify=train.survived)\n",
    "# create X & y version of train, where y is a series with just the target variable and X are all the features. \n",
    "\n",
    "X_train = train.drop(columns=['survived'])\n",
    "y_train = train.survived\n",
    "\n",
    "X_val = val.drop(columns=['survived'])\n",
    "y_val = val.survived\n",
    "\n",
    "X_test = test.drop(columns=['survived'])\n",
    "y_test = test.survived\n",
    "print(f'train_titanic -> {train.shape}')\n",
    "print(f'validate_titanic -> {validate.shape}')\n",
    "print(f'test_titanic -> {test.shape}')\n",
    "baseline = train.survived.mode()\n",
    "print(baseline)"
   ]
  },
  {
   "cell_type": "code",
   "execution_count": 263,
   "id": "015230b4",
   "metadata": {},
   "outputs": [
    {
     "name": "stdout",
     "output_type": "stream",
     "text": [
      "<class 'pandas.core.frame.DataFrame'>\n",
      "Int64Index: 889 entries, 0 to 890\n",
      "Data columns (total 10 columns):\n",
      " #   Column                   Non-Null Count  Dtype \n",
      "---  ------                   --------------  ----- \n",
      " 0   passenger_id             889 non-null    object\n",
      " 1   survived                 889 non-null    object\n",
      " 2   pclass                   889 non-null    object\n",
      " 3   sibsp                    889 non-null    object\n",
      " 4   parch                    889 non-null    object\n",
      " 5   fare                     889 non-null    object\n",
      " 6   alone                    889 non-null    object\n",
      " 7   sex_male                 889 non-null    object\n",
      " 8   embark_town_Queenstown   889 non-null    object\n",
      " 9   embark_town_Southampton  889 non-null    object\n",
      "dtypes: object(10)\n",
      "memory usage: 76.4+ KB\n"
     ]
    }
   ],
   "source": [
    "clf1 = DecisionTreeClassifier(max_depth=2, random_state=123)\n",
    "df_titanic.info()"
   ]
  },
  {
   "cell_type": "code",
   "execution_count": 265,
   "id": "74dfbfff",
   "metadata": {},
   "outputs": [
    {
     "data": {
      "text/plain": [
       "[Text(0.5, 0.8333333333333334, 'sex_male <= 0.5\\ngini = 0.472\\nsamples = 497\\nvalue = [307, 190]\\nclass = 0'),\n",
       " Text(0.25, 0.5, 'pclass <= 2.5\\ngini = 0.376\\nsamples = 167\\nvalue = [42, 125]\\nclass = 1'),\n",
       " Text(0.125, 0.16666666666666666, 'gini = 0.081\\nsamples = 94\\nvalue = [4, 90]\\nclass = 1'),\n",
       " Text(0.375, 0.16666666666666666, 'gini = 0.499\\nsamples = 73\\nvalue = [38, 35]\\nclass = 0'),\n",
       " Text(0.75, 0.5, 'pclass <= 1.5\\ngini = 0.316\\nsamples = 330\\nvalue = [265, 65]\\nclass = 0'),\n",
       " Text(0.625, 0.16666666666666666, 'gini = 0.482\\nsamples = 74\\nvalue = [44, 30]\\nclass = 0'),\n",
       " Text(0.875, 0.16666666666666666, 'gini = 0.236\\nsamples = 256\\nvalue = [221, 35]\\nclass = 0')]"
      ]
     },
     "execution_count": 265,
     "metadata": {},
     "output_type": "execute_result"
    },
    {
     "data": {
      "image/png": "[encoded data removed]",
      "text/plain": [
       "<Figure size 936x504 with 1 Axes>"
      ]
     },
     "metadata": {
      "needs_background": "light"
     },
     "output_type": "display_data"
    }
   ],
   "source": [
    "plt.figure(figsize=(13, 7))\n",
    "clf1 = clf1.fit(X_train, y_train)\n",
    "plot_tree(clf1, feature_names=X_train.columns, class_names=clf1.classes_, rounded=True)"
   ]
  },
  {
   "cell_type": "code",
   "execution_count": 266,
   "id": "43a7b3a2",
   "metadata": {},
   "outputs": [
    {
     "name": "stdout",
     "output_type": "stream",
     "text": [
      "training score: 79.07%\n"
     ]
    },
    {
     "data": {
      "text/plain": [
       "array([0, 1, 0, 1, 1])"
      ]
     },
     "execution_count": 266,
     "metadata": {},
     "output_type": "execute_result"
    }
   ],
   "source": [
    "y_pred = clf.predict(X_train)\n",
    "print(f'training score: {clf1.score(X_train, y_train):.2%}')\n",
    "y_pred[0:5]"
   ]
  },
  {
   "cell_type": "code",
   "execution_count": 267,
   "id": "e5212897",
   "metadata": {},
   "outputs": [
    {
     "data": {
      "text/plain": [
       "array([[0.60465116, 0.39534884],\n",
       "       [0.        , 1.        ],\n",
       "       [0.91304348, 0.08695652],\n",
       "       [0.        , 1.        ],\n",
       "       [0.13333333, 0.86666667]])"
      ]
     },
     "execution_count": 267,
     "metadata": {},
     "output_type": "execute_result"
    }
   ],
   "source": [
    "y_pred_proba = clf.predict_proba(X_train)\n",
    "y_pred_proba[0:5]"
   ]
  },
  {
   "cell_type": "code",
   "execution_count": 268,
   "id": "88c7cdeb",
   "metadata": {},
   "outputs": [
    {
     "data": {
      "text/plain": [
       "0    307\n",
       "1    190\n",
       "Name: survived, dtype: int64"
      ]
     },
     "execution_count": 268,
     "metadata": {},
     "output_type": "execute_result"
    }
   ],
   "source": [
    "#males and females\n",
    "y_train.value_counts()"
   ]
  },
  {
   "cell_type": "code",
   "execution_count": 283,
   "id": "9d8f43e4",
   "metadata": {
    "collapsed": true
   },
   "outputs": [
    {
     "name": "stdout",
     "output_type": "stream",
     "text": [
      "accuracy: 84.51%\n"
     ]
    },
    {
     "ename": "ValueError",
     "evalue": "pos_label=1 is not a valid label. It should be one of ['0', '1']",
     "output_type": "error",
     "traceback": [
      "\u001b[0;31m---------------------------------------------------------------------------\u001b[0m",
      "\u001b[0;31mValueError\u001b[0m                                Traceback (most recent call last)",
      "Input \u001b[0;32mIn [283]\u001b[0m, in \u001b[0;36m<cell line: 7>\u001b[0;34m()\u001b[0m\n\u001b[1;32m      4\u001b[0m FN \u001b[38;5;241m=\u001b[39m ((train\u001b[38;5;241m.\u001b[39msurvived \u001b[38;5;241m==\u001b[39m \u001b[38;5;241m1\u001b[39m) \u001b[38;5;241m&\u001b[39m (clf\u001b[38;5;241m.\u001b[39mpredict(X_train) \u001b[38;5;241m==\u001b[39m \u001b[38;5;241m0\u001b[39m))\u001b[38;5;241m.\u001b[39msum()\n\u001b[1;32m      6\u001b[0m \u001b[38;5;28mprint\u001b[39m(\u001b[38;5;124mf\u001b[39m\u001b[38;5;124m'\u001b[39m\u001b[38;5;124maccuracy: \u001b[39m\u001b[38;5;132;01m{\u001b[39;00mmet\u001b[38;5;241m.\u001b[39maccuracy_score(train\u001b[38;5;241m.\u001b[39msurvived, clf\u001b[38;5;241m.\u001b[39mpredict(X_train))\u001b[38;5;132;01m:\u001b[39;00m\u001b[38;5;124m.2%\u001b[39m\u001b[38;5;132;01m}\u001b[39;00m\u001b[38;5;124m'\u001b[39m)\n\u001b[0;32m----> 7\u001b[0m \u001b[38;5;28mprint\u001b[39m(\u001b[38;5;124mf\u001b[39m\u001b[38;5;124m'\u001b[39m\u001b[38;5;124mtrue positive rate / recall: \u001b[39m\u001b[38;5;132;01m{\u001b[39;00mmet\u001b[38;5;241m.\u001b[39mrecall_score(train\u001b[38;5;241m.\u001b[39msurvived, clf1\u001b[38;5;241m.\u001b[39mpredict(X_train))\u001b[38;5;132;01m:\u001b[39;00m\u001b[38;5;124m.2%\u001b[39m\u001b[38;5;132;01m}\u001b[39;00m\u001b[38;5;124m'\u001b[39m)\n\u001b[1;32m      8\u001b[0m \u001b[38;5;28mprint\u001b[39m(\u001b[38;5;124mf\u001b[39m\u001b[38;5;124m'\u001b[39m\u001b[38;5;124mtrue negative rate / Specificity: \u001b[39m\u001b[38;5;132;01m{\u001b[39;00m(TN)\u001b[38;5;241m/\u001b[39m(FP\u001b[38;5;241m+\u001b[39mTN)\u001b[38;5;132;01m:\u001b[39;00m\u001b[38;5;124m.2%\u001b[39m\u001b[38;5;132;01m}\u001b[39;00m\u001b[38;5;124m'\u001b[39m)\n\u001b[1;32m      9\u001b[0m \u001b[38;5;28mprint\u001b[39m(\u001b[38;5;124mf\u001b[39m\u001b[38;5;124m'\u001b[39m\u001b[38;5;124mfalse potivie rate / Percision: \u001b[39m\u001b[38;5;132;01m{\u001b[39;00mmet\u001b[38;5;241m.\u001b[39mprecision_score(train\u001b[38;5;241m.\u001b[39msurvived, clf\u001b[38;5;241m.\u001b[39mpredict(X_train))\u001b[38;5;132;01m:\u001b[39;00m\u001b[38;5;124m.2%\u001b[39m\u001b[38;5;132;01m}\u001b[39;00m\u001b[38;5;124m'\u001b[39m)\n",
      "File \u001b[0;32m/opt/homebrew/anaconda3/lib/python3.9/site-packages/sklearn/metrics/_classification.py:1901\u001b[0m, in \u001b[0;36mrecall_score\u001b[0;34m(y_true, y_pred, labels, pos_label, average, sample_weight, zero_division)\u001b[0m\n\u001b[1;32m   1770\u001b[0m \u001b[38;5;28;01mdef\u001b[39;00m \u001b[38;5;21mrecall_score\u001b[39m(\n\u001b[1;32m   1771\u001b[0m     y_true,\n\u001b[1;32m   1772\u001b[0m     y_pred,\n\u001b[0;32m   (...)\u001b[0m\n\u001b[1;32m   1778\u001b[0m     zero_division\u001b[38;5;241m=\u001b[39m\u001b[38;5;124m\"\u001b[39m\u001b[38;5;124mwarn\u001b[39m\u001b[38;5;124m\"\u001b[39m,\n\u001b[1;32m   1779\u001b[0m ):\n\u001b[1;32m   1780\u001b[0m     \u001b[38;5;124;03m\"\"\"Compute the recall.\u001b[39;00m\n\u001b[1;32m   1781\u001b[0m \n\u001b[1;32m   1782\u001b[0m \u001b[38;5;124;03m    The recall is the ratio ``tp / (tp + fn)`` where ``tp`` is the number of\u001b[39;00m\n\u001b[0;32m   (...)\u001b[0m\n\u001b[1;32m   1899\u001b[0m \u001b[38;5;124;03m    array([1. , 1. , 0.5])\u001b[39;00m\n\u001b[1;32m   1900\u001b[0m \u001b[38;5;124;03m    \"\"\"\u001b[39;00m\n\u001b[0;32m-> 1901\u001b[0m     _, r, _, _ \u001b[38;5;241m=\u001b[39m \u001b[43mprecision_recall_fscore_support\u001b[49m\u001b[43m(\u001b[49m\n\u001b[1;32m   1902\u001b[0m \u001b[43m        \u001b[49m\u001b[43my_true\u001b[49m\u001b[43m,\u001b[49m\n\u001b[1;32m   1903\u001b[0m \u001b[43m        \u001b[49m\u001b[43my_pred\u001b[49m\u001b[43m,\u001b[49m\n\u001b[1;32m   1904\u001b[0m \u001b[43m        \u001b[49m\u001b[43mlabels\u001b[49m\u001b[38;5;241;43m=\u001b[39;49m\u001b[43mlabels\u001b[49m\u001b[43m,\u001b[49m\n\u001b[1;32m   1905\u001b[0m \u001b[43m        \u001b[49m\u001b[43mpos_label\u001b[49m\u001b[38;5;241;43m=\u001b[39;49m\u001b[43mpos_label\u001b[49m\u001b[43m,\u001b[49m\n\u001b[1;32m   1906\u001b[0m \u001b[43m        \u001b[49m\u001b[43maverage\u001b[49m\u001b[38;5;241;43m=\u001b[39;49m\u001b[43maverage\u001b[49m\u001b[43m,\u001b[49m\n\u001b[1;32m   1907\u001b[0m \u001b[43m        \u001b[49m\u001b[43mwarn_for\u001b[49m\u001b[38;5;241;43m=\u001b[39;49m\u001b[43m(\u001b[49m\u001b[38;5;124;43m\"\u001b[39;49m\u001b[38;5;124;43mrecall\u001b[39;49m\u001b[38;5;124;43m\"\u001b[39;49m\u001b[43m,\u001b[49m\u001b[43m)\u001b[49m\u001b[43m,\u001b[49m\n\u001b[1;32m   1908\u001b[0m \u001b[43m        \u001b[49m\u001b[43msample_weight\u001b[49m\u001b[38;5;241;43m=\u001b[39;49m\u001b[43msample_weight\u001b[49m\u001b[43m,\u001b[49m\n\u001b[1;32m   1909\u001b[0m \u001b[43m        \u001b[49m\u001b[43mzero_division\u001b[49m\u001b[38;5;241;43m=\u001b[39;49m\u001b[43mzero_division\u001b[49m\u001b[43m,\u001b[49m\n\u001b[1;32m   1910\u001b[0m \u001b[43m    \u001b[49m\u001b[43m)\u001b[49m\n\u001b[1;32m   1911\u001b[0m     \u001b[38;5;28;01mreturn\u001b[39;00m r\n",
      "File \u001b[0;32m/opt/homebrew/anaconda3/lib/python3.9/site-packages/sklearn/metrics/_classification.py:1544\u001b[0m, in \u001b[0;36mprecision_recall_fscore_support\u001b[0;34m(y_true, y_pred, beta, labels, pos_label, average, warn_for, sample_weight, zero_division)\u001b[0m\n\u001b[1;32m   1542\u001b[0m \u001b[38;5;28;01mif\u001b[39;00m beta \u001b[38;5;241m<\u001b[39m \u001b[38;5;241m0\u001b[39m:\n\u001b[1;32m   1543\u001b[0m     \u001b[38;5;28;01mraise\u001b[39;00m \u001b[38;5;167;01mValueError\u001b[39;00m(\u001b[38;5;124m\"\u001b[39m\u001b[38;5;124mbeta should be >=0 in the F-beta score\u001b[39m\u001b[38;5;124m\"\u001b[39m)\n\u001b[0;32m-> 1544\u001b[0m labels \u001b[38;5;241m=\u001b[39m \u001b[43m_check_set_wise_labels\u001b[49m\u001b[43m(\u001b[49m\u001b[43my_true\u001b[49m\u001b[43m,\u001b[49m\u001b[43m \u001b[49m\u001b[43my_pred\u001b[49m\u001b[43m,\u001b[49m\u001b[43m \u001b[49m\u001b[43maverage\u001b[49m\u001b[43m,\u001b[49m\u001b[43m \u001b[49m\u001b[43mlabels\u001b[49m\u001b[43m,\u001b[49m\u001b[43m \u001b[49m\u001b[43mpos_label\u001b[49m\u001b[43m)\u001b[49m\n\u001b[1;32m   1546\u001b[0m \u001b[38;5;66;03m# Calculate tp_sum, pred_sum, true_sum ###\u001b[39;00m\n\u001b[1;32m   1547\u001b[0m samplewise \u001b[38;5;241m=\u001b[39m average \u001b[38;5;241m==\u001b[39m \u001b[38;5;124m\"\u001b[39m\u001b[38;5;124msamples\u001b[39m\u001b[38;5;124m\"\u001b[39m\n",
      "File \u001b[0;32m/opt/homebrew/anaconda3/lib/python3.9/site-packages/sklearn/metrics/_classification.py:1356\u001b[0m, in \u001b[0;36m_check_set_wise_labels\u001b[0;34m(y_true, y_pred, average, labels, pos_label)\u001b[0m\n\u001b[1;32m   1354\u001b[0m     \u001b[38;5;28;01mif\u001b[39;00m pos_label \u001b[38;5;129;01mnot\u001b[39;00m \u001b[38;5;129;01min\u001b[39;00m present_labels:\n\u001b[1;32m   1355\u001b[0m         \u001b[38;5;28;01mif\u001b[39;00m \u001b[38;5;28mlen\u001b[39m(present_labels) \u001b[38;5;241m>\u001b[39m\u001b[38;5;241m=\u001b[39m \u001b[38;5;241m2\u001b[39m:\n\u001b[0;32m-> 1356\u001b[0m             \u001b[38;5;28;01mraise\u001b[39;00m \u001b[38;5;167;01mValueError\u001b[39;00m(\n\u001b[1;32m   1357\u001b[0m                 \u001b[38;5;124mf\u001b[39m\u001b[38;5;124m\"\u001b[39m\u001b[38;5;124mpos_label=\u001b[39m\u001b[38;5;132;01m{\u001b[39;00mpos_label\u001b[38;5;132;01m}\u001b[39;00m\u001b[38;5;124m is not a valid label. It \u001b[39m\u001b[38;5;124m\"\u001b[39m\n\u001b[1;32m   1358\u001b[0m                 \u001b[38;5;124mf\u001b[39m\u001b[38;5;124m\"\u001b[39m\u001b[38;5;124mshould be one of \u001b[39m\u001b[38;5;132;01m{\u001b[39;00mpresent_labels\u001b[38;5;132;01m}\u001b[39;00m\u001b[38;5;124m\"\u001b[39m\n\u001b[1;32m   1359\u001b[0m             )\n\u001b[1;32m   1360\u001b[0m     labels \u001b[38;5;241m=\u001b[39m [pos_label]\n\u001b[1;32m   1361\u001b[0m \u001b[38;5;28;01melse\u001b[39;00m:\n",
      "\u001b[0;31mValueError\u001b[0m: pos_label=1 is not a valid label. It should be one of ['0', '1']"
     ]
    }
   ],
   "source": [
    "TP = ((train.survived == 1) & (clf.predict(X_train) == 1)).sum()\n",
    "FP = ((train.survived == 0) & (clf.predict(X_train) == 1)).sum()\n",
    "TN = ((train.survived == 0) & (clf.predict(X_train) == 0)).sum()\n",
    "FN = ((train.survived == 1) & (clf.predict(X_train) == 0)).sum()\n",
    "\n",
    "print(f'accuracy: {met.accuracy_score(train.survived, clf.predict(X_train)):.2%}')\n",
    "print(f'true positive rate / recall: {met.recall_score(train.survived, clf1.predict(X_train)):.2%}')\n",
    "print(f'true negative rate / Specificity: {(TN)/(FP+TN):.2%}')\n",
    "print(f'false potivie rate / Percision: {met.precision_score(train.survived, clf.predict(X_train)):.2%}')\n",
    "print(f'false negative rate: {(TN)/(TN+FN):.2%}')\n",
    "print(f'f1-score: {met.f1_score(train.survived, clf.predict(X_train)):.2%}')\n",
    "print(f'support: {clf.predict(X_train).sum()}')"
   ]
  },
  {
   "cell_type": "code",
   "execution_count": 271,
   "id": "053ceead",
   "metadata": {},
   "outputs": [
    {
     "data": {
      "text/plain": [
       "[Text(0.5, 0.9, 'sex_male <= 0.5\\ngini = 0.472\\nsamples = 497\\nvalue = [307, 190]\\nclass = 0'),\n",
       " Text(0.25, 0.7, 'pclass <= 2.5\\ngini = 0.376\\nsamples = 167\\nvalue = [42, 125]\\nclass = 1'),\n",
       " Text(0.125, 0.5, 'passenger_id <= 205.0\\ngini = 0.081\\nsamples = 94\\nvalue = [4, 90]\\nclass = 1'),\n",
       " Text(0.0625, 0.3, 'passenger_id <= 197.0\\ngini = 0.305\\nsamples = 16\\nvalue = [3, 13]\\nclass = 1'),\n",
       " Text(0.03125, 0.1, 'gini = 0.231\\nsamples = 15\\nvalue = [2, 13]\\nclass = 1'),\n",
       " Text(0.09375, 0.1, 'gini = 0.0\\nsamples = 1\\nvalue = [1, 0]\\nclass = 0'),\n",
       " Text(0.1875, 0.3, 'fare <= 143.025\\ngini = 0.025\\nsamples = 78\\nvalue = [1, 77]\\nclass = 1'),\n",
       " Text(0.15625, 0.1, 'gini = 0.0\\nsamples = 70\\nvalue = [0, 70]\\nclass = 1'),\n",
       " Text(0.21875, 0.1, 'gini = 0.219\\nsamples = 8\\nvalue = [1, 7]\\nclass = 1'),\n",
       " Text(0.375, 0.5, 'fare <= 19.735\\ngini = 0.499\\nsamples = 73\\nvalue = [38, 35]\\nclass = 0'),\n",
       " Text(0.3125, 0.3, 'passenger_id <= 490.0\\ngini = 0.485\\nsamples = 58\\nvalue = [24, 34]\\nclass = 1'),\n",
       " Text(0.28125, 0.1, 'gini = 0.401\\nsamples = 36\\nvalue = [10, 26]\\nclass = 1'),\n",
       " Text(0.34375, 0.1, 'gini = 0.463\\nsamples = 22\\nvalue = [14, 8]\\nclass = 0'),\n",
       " Text(0.4375, 0.3, 'fare <= 23.746\\ngini = 0.124\\nsamples = 15\\nvalue = [14, 1]\\nclass = 0'),\n",
       " Text(0.40625, 0.1, 'gini = 0.375\\nsamples = 4\\nvalue = [3, 1]\\nclass = 0'),\n",
       " Text(0.46875, 0.1, 'gini = 0.0\\nsamples = 11\\nvalue = [11, 0]\\nclass = 0'),\n",
       " Text(0.75, 0.7, 'pclass <= 1.5\\ngini = 0.316\\nsamples = 330\\nvalue = [265, 65]\\nclass = 0'),\n",
       " Text(0.625, 0.5, 'passenger_id <= 186.0\\ngini = 0.482\\nsamples = 74\\nvalue = [44, 30]\\nclass = 0'),\n",
       " Text(0.5625, 0.3, 'passenger_id <= 58.5\\ngini = 0.231\\nsamples = 15\\nvalue = [13, 2]\\nclass = 0'),\n",
       " Text(0.53125, 0.1, 'gini = 0.444\\nsamples = 3\\nvalue = [1, 2]\\nclass = 1'),\n",
       " Text(0.59375, 0.1, 'gini = 0.0\\nsamples = 12\\nvalue = [12, 0]\\nclass = 0'),\n",
       " Text(0.6875, 0.3, 'sibsp <= 0.5\\ngini = 0.499\\nsamples = 59\\nvalue = [31, 28]\\nclass = 0'),\n",
       " Text(0.65625, 0.1, 'gini = 0.478\\nsamples = 43\\nvalue = [26, 17]\\nclass = 0'),\n",
       " Text(0.71875, 0.1, 'gini = 0.43\\nsamples = 16\\nvalue = [5, 11]\\nclass = 1'),\n",
       " Text(0.875, 0.5, 'parch <= 0.5\\ngini = 0.236\\nsamples = 256\\nvalue = [221, 35]\\nclass = 0'),\n",
       " Text(0.8125, 0.3, 'fare <= 41.748\\ngini = 0.201\\nsamples = 220\\nvalue = [195, 25]\\nclass = 0'),\n",
       " Text(0.78125, 0.1, 'gini = 0.185\\nsamples = 213\\nvalue = [191, 22]\\nclass = 0'),\n",
       " Text(0.84375, 0.1, 'gini = 0.49\\nsamples = 7\\nvalue = [4, 3]\\nclass = 0'),\n",
       " Text(0.9375, 0.3, 'fare <= 20.825\\ngini = 0.401\\nsamples = 36\\nvalue = [26, 10]\\nclass = 0'),\n",
       " Text(0.90625, 0.1, 'gini = 0.473\\nsamples = 13\\nvalue = [5, 8]\\nclass = 1'),\n",
       " Text(0.96875, 0.1, 'gini = 0.159\\nsamples = 23\\nvalue = [21, 2]\\nclass = 0')]"
      ]
     },
     "execution_count": 271,
     "metadata": {},
     "output_type": "execute_result"
    },
    {
     "data": {
      "image/png": "[encoded data removed]",
      "text/plain": [
       "<Figure size 936x504 with 1 Axes>"
      ]
     },
     "metadata": {
      "needs_background": "light"
     },
     "output_type": "display_data"
    }
   ],
   "source": [
    "clf = DecisionTreeClassifier(max_depth=4, random_state=123)\n",
    "plt.figure(figsize=(13, 7))\n",
    "clf = clf.fit(X_train, y_train)\n",
    "plot_tree(clf, feature_names=X_train.columns, class_names=clf.classes_, rounded=True)"
   ]
  },
  {
   "cell_type": "code",
   "execution_count": 280,
   "id": "e55e11f7",
   "metadata": {},
   "outputs": [
    {
     "name": "stdout",
     "output_type": "stream",
     "text": [
      "training score: 84.51%\n"
     ]
    }
   ],
   "source": [
    "print(f'training score: {clf.score(X_train, y_train):.2%}')"
   ]
  },
  {
   "cell_type": "code",
   "execution_count": 284,
   "id": "ea466bea",
   "metadata": {},
   "outputs": [
    {
     "data": {
      "text/html": [
       "<div>\n",
       "<style scoped>\n",
       "    .dataframe tbody tr th:only-of-type {\n",
       "        vertical-align: middle;\n",
       "    }\n",
       "\n",
       "    .dataframe tbody tr th {\n",
       "        vertical-align: top;\n",
       "    }\n",
       "\n",
       "    .dataframe thead th {\n",
       "        text-align: right;\n",
       "    }\n",
       "</style>\n",
       "<table border=\"1\" class=\"dataframe\">\n",
       "  <thead>\n",
       "    <tr style=\"text-align: right;\">\n",
       "      <th></th>\n",
       "      <th>0</th>\n",
       "      <th>1</th>\n",
       "      <th>accuracy</th>\n",
       "      <th>macro avg</th>\n",
       "      <th>weighted avg</th>\n",
       "    </tr>\n",
       "  </thead>\n",
       "  <tbody>\n",
       "    <tr>\n",
       "      <th>precision</th>\n",
       "      <td>0.751861</td>\n",
       "      <td>0.957447</td>\n",
       "      <td>0.790744</td>\n",
       "      <td>0.854654</td>\n",
       "      <td>0.830455</td>\n",
       "    </tr>\n",
       "    <tr>\n",
       "      <th>recall</th>\n",
       "      <td>0.986971</td>\n",
       "      <td>0.473684</td>\n",
       "      <td>0.790744</td>\n",
       "      <td>0.730327</td>\n",
       "      <td>0.790744</td>\n",
       "    </tr>\n",
       "    <tr>\n",
       "      <th>f1-score</th>\n",
       "      <td>0.853521</td>\n",
       "      <td>0.633803</td>\n",
       "      <td>0.790744</td>\n",
       "      <td>0.743662</td>\n",
       "      <td>0.769524</td>\n",
       "    </tr>\n",
       "    <tr>\n",
       "      <th>support</th>\n",
       "      <td>307.000000</td>\n",
       "      <td>190.000000</td>\n",
       "      <td>0.790744</td>\n",
       "      <td>497.000000</td>\n",
       "      <td>497.000000</td>\n",
       "    </tr>\n",
       "  </tbody>\n",
       "</table>\n",
       "</div>"
      ],
      "text/plain": [
       "                    0           1  accuracy   macro avg  weighted avg\n",
       "precision    0.751861    0.957447  0.790744    0.854654      0.830455\n",
       "recall       0.986971    0.473684  0.790744    0.730327      0.790744\n",
       "f1-score     0.853521    0.633803  0.790744    0.743662      0.769524\n",
       "support    307.000000  190.000000  0.790744  497.000000    497.000000"
      ]
     },
     "execution_count": 284,
     "metadata": {},
     "output_type": "execute_result"
    }
   ],
   "source": [
    "pd.DataFrame(met.classification_report(train.survived, clf1.predict(X_train), output_dict=True))"
   ]
  },
  {
   "cell_type": "code",
   "execution_count": 273,
   "id": "e6e42592",
   "metadata": {},
   "outputs": [
    {
     "name": "stdout",
     "output_type": "stream",
     "text": [
      "CLF Accuracy: 84.51%\n",
      "CLF-1 Accuracy: 79.07%\n",
      "Baseline Accuracy: 61.77%\n"
     ]
    }
   ],
   "source": [
    "print(f'CLF Accuracy: {met.accuracy_score(train.survived, clf.predict(X_train)):.2%}')\n",
    "print(f'CLF-1 Accuracy: {met.accuracy_score(train.survived, clf1.predict(X_train)):.2%}')\n",
    "print(f'Baseline Accuracy: {met.accuracy_score(train.survived, baseline_train):.2%}')\n",
    "#model CLF perform the best out of all the models"
   ]
  },
  {
   "cell_type": "code",
   "execution_count": 279,
   "id": "2f1d6153",
   "metadata": {},
   "outputs": [
    {
     "name": "stdout",
     "output_type": "stream",
     "text": [
      "CLF Accuracy: 74.30%\n",
      "CLF-1 Accuracy: 78.04%\n",
      "Baseline Accuracy: 61.68%\n"
     ]
    }
   ],
   "source": [
    "# Which model performs better on your in-sample data?\n",
    "# CLD-1 was the most accuracy\n",
    "print(f'CLF Accuracy: {met.accuracy_score(val.survived, clf.predict(X_val)):.2%}')\n",
    "print(f'CLF-1 Accuracy: {met.accuracy_score(val.survived, clf1.predict(X_val)):.2%}')\n",
    "print(f'Baseline Accuracy: {met.accuracy_score(val.survived, baseline_val):.2%}')"
   ]
  }
 ],
 "metadata": {
  "kernelspec": {
   "display_name": "Python 3 (ipykernel)",
   "language": "python",
   "name": "python3"
  },
  "language_info": {
   "codemirror_mode": {
    "name": "ipython",
    "version": 3
   },
   "file_extension": ".py",
   "mimetype": "text/x-python",
   "name": "python",
   "nbconvert_exporter": "python",
   "pygments_lexer": "ipython3",
   "version": "3.9.12"
  }
 },
 "nbformat": 4,
 "nbformat_minor": 5
}
